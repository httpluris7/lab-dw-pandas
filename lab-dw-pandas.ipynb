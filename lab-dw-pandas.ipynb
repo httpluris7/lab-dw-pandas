{
 "cells": [
  {
   "cell_type": "markdown",
   "id": "25d7736c-ba17-4aff-b6bb-66eba20fbf4e",
   "metadata": {},
   "source": [
    "# Lab | Pandas"
   ]
  },
  {
   "cell_type": "markdown",
   "id": "d1973e9e-8be6-4039-b70e-d73ee0d94c99",
   "metadata": {},
   "source": [
    "In this lab, we will be working with the customer data from an insurance company, which can be found in the CSV file located at the following link: https://raw.githubusercontent.com/data-bootcamp-v4/data/main/file1.csv\n",
    "\n",
    "The data includes information such as customer ID, state, gender, education, income, and other variables that can be used to perform various analyses.\n",
    "\n",
    "Throughout the lab, we will be using the pandas library in Python to manipulate and analyze the data. Pandas is a powerful library that provides various data manipulation and analysis tools, including the ability to load and manipulate data from a variety of sources, including CSV files."
   ]
  },
  {
   "cell_type": "markdown",
   "id": "8045146f-f4f7-44d9-8cd9-130d6400c73a",
   "metadata": {},
   "source": [
    "### Data Description\n",
    "\n",
    "- Customer - Customer ID\n",
    "\n",
    "- ST - State where customers live\n",
    "\n",
    "- Gender - Gender of the customer\n",
    "\n",
    "- Education - Background education of customers \n",
    "\n",
    "- Customer Lifetime Value - Customer lifetime value(CLV) is the total revenue the client will derive from their entire relationship with a customer. In other words, is the predicted or calculated value of a customer over their entire duration as a policyholder with the insurance company. It is an estimation of the net profit that the insurance company expects to generate from a customer throughout their relationship with the company. Customer Lifetime Value takes into account factors such as the duration of the customer's policy, premium payments, claim history, renewal likelihood, and potential additional services or products the customer may purchase. It helps insurers assess the long-term profitability and value associated with retaining a particular customer.\n",
    "\n",
    "- Income - Customers income\n",
    "\n",
    "- Monthly Premium Auto - Amount of money the customer pays on a monthly basis as a premium for their auto insurance coverage. It represents the recurring cost that the insured person must pay to maintain their insurance policy and receive coverage for potential damages, accidents, or other covered events related to their vehicle.\n",
    "\n",
    "- Number of Open Complaints - Number of complaints the customer opened\n",
    "\n",
    "- Policy Type - There are three type of policies in car insurance (Corporate Auto, Personal Auto, and Special Auto)\n",
    "\n",
    "- Vehicle Class - Type of vehicle classes that customers have Two-Door Car, Four-Door Car SUV, Luxury SUV, Sports Car, and Luxury Car\n",
    "\n",
    "- Total Claim Amount - the sum of all claims made by the customer. It represents the total monetary value of all approved claims for incidents such as accidents, theft, vandalism, or other covered events.\n"
   ]
  },
  {
   "cell_type": "markdown",
   "id": "3a72419b-20fc-4905-817a-8c83abc59de6",
   "metadata": {},
   "source": [
    "External Resources: https://towardsdatascience.com/filtering-data-frames-in-pandas-b570b1f834b9"
   ]
  },
  {
   "cell_type": "markdown",
   "id": "8f8ece17-e919-4e23-96c0-c7c59778436a",
   "metadata": {},
   "source": [
    "## Challenge 1: Understanding the data\n",
    "\n",
    "In this challenge, you will use pandas to explore a given dataset. Your task is to gain a deep understanding of the data by analyzing its characteristics, dimensions, and statistical properties."
   ]
  },
  {
   "cell_type": "markdown",
   "id": "91437bd5-59a6-49c0-8150-ef0e6e6eb253",
   "metadata": {},
   "source": [
    "- Identify the dimensions of the dataset by determining the number of rows and columns it contains.\n",
    "- Determine the data types of each column and evaluate whether they are appropriate for the nature of the variable. You should also provide suggestions for fixing any incorrect data types.\n",
    "- Identify the number of unique values for each column and determine which columns appear to be categorical. You should also describe the unique values of each categorical column and the range of values for numerical columns, and give your insights.\n",
    "- Compute summary statistics such as mean, median, mode, standard deviation, and quartiles to understand the central tendency and distribution of the data for numerical columns. You should also provide your conclusions based on these summary statistics.\n",
    "- Compute summary statistics for categorical columns and providing your conclusions based on these statistics."
   ]
  },
  {
   "cell_type": "markdown",
   "id": "4a703890-63db-4944-b7ab-95a4f8185120",
   "metadata": {},
   "source": [
    "## Challenge 2: analyzing the data"
   ]
  },
  {
   "cell_type": "markdown",
   "id": "0776a403-c56a-452f-ac33-5fd4fdb06fc7",
   "metadata": {},
   "source": [
    "### Exercise 1"
   ]
  },
  {
   "cell_type": "markdown",
   "id": "eedbc484-da4d-4f9c-9343-e1d44311a87e",
   "metadata": {},
   "source": [
    "The marketing team wants to know the top 5 less common customer locations. Create a pandas Series object that contains the customer locations and their frequencies, and then retrieve the top 5 less common locations in ascending order."
   ]
  },
  {
   "cell_type": "markdown",
   "id": "0ce80f43-4afa-43c7-a78a-c917444da4e0",
   "metadata": {},
   "source": [
    "### Exercise 2\n",
    "\n",
    "The sales team wants to know the total number of policies sold for each type of policy. Create a pandas Series object that contains the policy types and their total number of policies sold, and then retrieve the policy type with the highest number of policies sold."
   ]
  },
  {
   "cell_type": "markdown",
   "id": "a9f13997-1555-4f98-aca6-970fda1d2c3f",
   "metadata": {},
   "source": [
    "*Hint:*\n",
    "- *Using value_counts() method simplifies this analysis.*\n",
    "- *Futhermore, there is a method that returns the index of the maximum value in a column or row.*\n"
   ]
  },
  {
   "cell_type": "markdown",
   "id": "0b863fd3-bf91-4d5d-86eb-be29ed9f5b70",
   "metadata": {},
   "source": [
    "### Exercise 3\n",
    "\n",
    "The sales team wants to know if customers with Personal Auto have a lower income than those with Corporate Auto. How does the average income compare between the two policy types?"
   ]
  },
  {
   "cell_type": "markdown",
   "id": "b1386d75-2810-4aa1-93e0-9485aa12d552",
   "metadata": {},
   "source": [
    "- Use *loc* to create two dataframes: one containing only Personal Auto policies and one containing only Corporate Auto policies.\n",
    "- Calculate the average income for each policy.\n",
    "- Print the results."
   ]
  },
  {
   "cell_type": "markdown",
   "id": "80b16c27-f4a5-4727-a229-1f88671cf4e2",
   "metadata": {},
   "source": [
    "### Bonus: Exercise 4\n"
   ]
  },
  {
   "cell_type": "markdown",
   "id": "ac584986-299b-475f-ac2e-928c16c3f512",
   "metadata": {},
   "source": [
    "Your goal is to identify customers with a high policy claim amount.\n",
    "\n",
    "Instructions:\n",
    "\n",
    "- Review again the statistics for total claim amount to gain an understanding of the data.\n",
    "- To identify potential areas for improving customer retention and profitability, we want to focus on customers with a high policy claim amount. Consider customers with a high policy claim amount to be those in the top 25% of the total claim amount. Create a pandas DataFrame object that contains information about customers with a policy claim amount greater than the 75th percentile.\n",
    "- Use DataFrame methods to calculate summary statistics about the high policy claim amount data. "
   ]
  },
  {
   "cell_type": "markdown",
   "id": "4e3af5f1-6023-4b05-9c01-d05392daa650",
   "metadata": {},
   "source": [
    "*Note: When analyzing data, we often want to focus on certain groups of values to gain insights. Percentiles are a useful tool to help us define these groups. A percentile is a measure that tells us what percentage of values in a dataset are below a certain value. For example, the 75th percentile represents the value below which 75% of the data falls. Similarly, the 25th percentile represents the value below which 25% of the data falls. When we talk about the top 25%, we are referring to the values that fall above the 75th percentile, which represent the top quarter of the data. On the other hand, when we talk about the bottom 25%, we are referring to the values that fall below the 25th percentile, which represent the bottom quarter of the data. By focusing on these groups, we can identify patterns and trends that may be useful for making decisions and taking action.*\n",
    "\n",
    "*Hint: look for a method that gives you the percentile or quantile 0.75 and 0.25 for a Pandas Series.*"
   ]
  },
  {
   "cell_type": "markdown",
   "id": "2d234634-50bd-41e0-88f7-d5ba684455d1",
   "metadata": {},
   "source": [
    "*Hint 2: check `Boolean selection according to the values of a single column` in https://towardsdatascience.com/filtering-data-frames-in-pandas-b570b1f834b9*"
   ]
  },
  {
   "cell_type": "code",
   "execution_count": 17,
   "id": "af5c722d",
   "metadata": {},
   "outputs": [
    {
     "data": {
      "text/html": [
       "<div>\n",
       "<style scoped>\n",
       "    .dataframe tbody tr th:only-of-type {\n",
       "        vertical-align: middle;\n",
       "    }\n",
       "\n",
       "    .dataframe tbody tr th {\n",
       "        vertical-align: top;\n",
       "    }\n",
       "\n",
       "    .dataframe thead th {\n",
       "        text-align: right;\n",
       "    }\n",
       "</style>\n",
       "<table border=\"1\" class=\"dataframe\">\n",
       "  <thead>\n",
       "    <tr style=\"text-align: right;\">\n",
       "      <th></th>\n",
       "      <th>Customer</th>\n",
       "      <th>ST</th>\n",
       "      <th>GENDER</th>\n",
       "      <th>Education</th>\n",
       "      <th>Customer Lifetime Value</th>\n",
       "      <th>Income</th>\n",
       "      <th>Monthly Premium Auto</th>\n",
       "      <th>Number of Open Complaints</th>\n",
       "      <th>Policy Type</th>\n",
       "      <th>Vehicle Class</th>\n",
       "      <th>Total Claim Amount</th>\n",
       "    </tr>\n",
       "  </thead>\n",
       "  <tbody>\n",
       "    <tr>\n",
       "      <th>0</th>\n",
       "      <td>RB50392</td>\n",
       "      <td>Washington</td>\n",
       "      <td>NaN</td>\n",
       "      <td>Master</td>\n",
       "      <td>NaN</td>\n",
       "      <td>0.0</td>\n",
       "      <td>1000.0</td>\n",
       "      <td>1/0/00</td>\n",
       "      <td>Personal Auto</td>\n",
       "      <td>Four-Door Car</td>\n",
       "      <td>2.704934</td>\n",
       "    </tr>\n",
       "    <tr>\n",
       "      <th>1</th>\n",
       "      <td>QZ44356</td>\n",
       "      <td>Arizona</td>\n",
       "      <td>F</td>\n",
       "      <td>Bachelor</td>\n",
       "      <td>697953.59%</td>\n",
       "      <td>0.0</td>\n",
       "      <td>94.0</td>\n",
       "      <td>1/0/00</td>\n",
       "      <td>Personal Auto</td>\n",
       "      <td>Four-Door Car</td>\n",
       "      <td>1131.464935</td>\n",
       "    </tr>\n",
       "    <tr>\n",
       "      <th>2</th>\n",
       "      <td>AI49188</td>\n",
       "      <td>Nevada</td>\n",
       "      <td>F</td>\n",
       "      <td>Bachelor</td>\n",
       "      <td>1288743.17%</td>\n",
       "      <td>48767.0</td>\n",
       "      <td>108.0</td>\n",
       "      <td>1/0/00</td>\n",
       "      <td>Personal Auto</td>\n",
       "      <td>Two-Door Car</td>\n",
       "      <td>566.472247</td>\n",
       "    </tr>\n",
       "    <tr>\n",
       "      <th>3</th>\n",
       "      <td>WW63253</td>\n",
       "      <td>California</td>\n",
       "      <td>M</td>\n",
       "      <td>Bachelor</td>\n",
       "      <td>764586.18%</td>\n",
       "      <td>0.0</td>\n",
       "      <td>106.0</td>\n",
       "      <td>1/0/00</td>\n",
       "      <td>Corporate Auto</td>\n",
       "      <td>SUV</td>\n",
       "      <td>529.881344</td>\n",
       "    </tr>\n",
       "    <tr>\n",
       "      <th>4</th>\n",
       "      <td>GA49547</td>\n",
       "      <td>Washington</td>\n",
       "      <td>M</td>\n",
       "      <td>High School or Below</td>\n",
       "      <td>536307.65%</td>\n",
       "      <td>36357.0</td>\n",
       "      <td>68.0</td>\n",
       "      <td>1/0/00</td>\n",
       "      <td>Personal Auto</td>\n",
       "      <td>Four-Door Car</td>\n",
       "      <td>17.269323</td>\n",
       "    </tr>\n",
       "  </tbody>\n",
       "</table>\n",
       "</div>"
      ],
      "text/plain": [
       "  Customer          ST GENDER             Education Customer Lifetime Value  \\\n",
       "0  RB50392  Washington    NaN                Master                     NaN   \n",
       "1  QZ44356     Arizona      F              Bachelor              697953.59%   \n",
       "2  AI49188      Nevada      F              Bachelor             1288743.17%   \n",
       "3  WW63253  California      M              Bachelor              764586.18%   \n",
       "4  GA49547  Washington      M  High School or Below              536307.65%   \n",
       "\n",
       "    Income  Monthly Premium Auto Number of Open Complaints     Policy Type  \\\n",
       "0      0.0                1000.0                    1/0/00   Personal Auto   \n",
       "1      0.0                  94.0                    1/0/00   Personal Auto   \n",
       "2  48767.0                 108.0                    1/0/00   Personal Auto   \n",
       "3      0.0                 106.0                    1/0/00  Corporate Auto   \n",
       "4  36357.0                  68.0                    1/0/00   Personal Auto   \n",
       "\n",
       "   Vehicle Class  Total Claim Amount  \n",
       "0  Four-Door Car            2.704934  \n",
       "1  Four-Door Car         1131.464935  \n",
       "2   Two-Door Car          566.472247  \n",
       "3            SUV          529.881344  \n",
       "4  Four-Door Car           17.269323  "
      ]
     },
     "execution_count": 17,
     "metadata": {},
     "output_type": "execute_result"
    }
   ],
   "source": [
    "import pandas as pd\n",
    "import numpy as np\n",
    "\n",
    "\n",
    "url = \"https://raw.githubusercontent.com/data-bootcamp-v4/data/main/file1.csv\"\n",
    "df = pd.read_csv(url)\n",
    "\n",
    "\n",
    "df.head()"
   ]
  },
  {
   "cell_type": "code",
   "execution_count": 18,
   "id": "f76ff061",
   "metadata": {},
   "outputs": [
    {
     "name": "stdout",
     "output_type": "stream",
     "text": [
      "Número de filas: 4008\n",
      "Número de columnas: 11\n"
     ]
    }
   ],
   "source": [
    "print(\"Número de filas:\", df.shape[0])\n",
    "print(\"Número de columnas:\", df.shape[1])"
   ]
  },
  {
   "cell_type": "code",
   "execution_count": 19,
   "id": "9b5a5c7c",
   "metadata": {},
   "outputs": [
    {
     "data": {
      "text/plain": [
       "Customer                      object\n",
       "ST                            object\n",
       "GENDER                        object\n",
       "Education                     object\n",
       "Customer Lifetime Value       object\n",
       "Income                       float64\n",
       "Monthly Premium Auto         float64\n",
       "Number of Open Complaints     object\n",
       "Policy Type                   object\n",
       "Vehicle Class                 object\n",
       "Total Claim Amount           float64\n",
       "dtype: object"
      ]
     },
     "execution_count": 19,
     "metadata": {},
     "output_type": "execute_result"
    }
   ],
   "source": [
    "df.dtypes"
   ]
  },
  {
   "cell_type": "code",
   "execution_count": 20,
   "id": "3267f824",
   "metadata": {},
   "outputs": [
    {
     "name": "stdout",
     "output_type": "stream",
     "text": [
      "Customer: 1071 valores unicos\n",
      "ST: 8 valores unicos\n",
      "GENDER: 5 valores unicos\n",
      "Education: 6 valores unicos\n",
      "Customer Lifetime Value: 1027 valores unicos\n",
      "Income: 774 valores unicos\n",
      "Monthly Premium Auto: 132 valores unicos\n",
      "Number of Open Complaints: 6 valores unicos\n",
      "Policy Type: 3 valores unicos\n",
      "Vehicle Class: 6 valores unicos\n",
      "Total Claim Amount: 761 valores unicos\n"
     ]
    }
   ],
   "source": [
    "for columnas in df.columns:\n",
    "    valores_unicos = df[columnas].nunique()\n",
    "    print(f\"{columnas}: {valores_unicos} valores unicos\")"
   ]
  },
  {
   "cell_type": "code",
   "execution_count": 21,
   "id": "69bf9bf2",
   "metadata": {},
   "outputs": [
    {
     "name": "stdout",
     "output_type": "stream",
     "text": [
      "             Income  Monthly Premium Auto  Total Claim Amount\n",
      "count   1071.000000           1071.000000         1071.000000\n",
      "mean   39295.701214            193.234360          404.986909\n",
      "std    30469.427060           1601.190369          293.027260\n",
      "min        0.000000             61.000000            0.382107\n",
      "25%    14072.000000             68.000000          202.157702\n",
      "50%    36234.000000             83.000000          354.729129\n",
      "75%    64631.000000            109.500000          532.800000\n",
      "max    99960.000000          35354.000000         2893.239678\n"
     ]
    }
   ],
   "source": [
    "numerical_cols = df.select_dtypes(include=np.number).columns\n",
    "print(df[numerical_cols].describe())"
   ]
  },
  {
   "cell_type": "code",
   "execution_count": 22,
   "id": "aac4ccd4",
   "metadata": {},
   "outputs": [
    {
     "name": "stdout",
     "output_type": "stream",
     "text": [
      "\n",
      "Valores para Customer:\n",
      "Customer\n",
      "RB50392    0.093371\n",
      "HJ15383    0.093371\n",
      "AO74776    0.093371\n",
      "HQ82233    0.093371\n",
      "OL72737    0.093371\n",
      "             ...   \n",
      "RO26085    0.093371\n",
      "ES57969    0.093371\n",
      "JK55587    0.093371\n",
      "RN97635    0.093371\n",
      "MY31220    0.093371\n",
      "Name: proportion, Length: 1071, dtype: float64\n",
      "\n",
      "Valores para ST:\n",
      "ST\n",
      "Oregon        29.878618\n",
      "California    19.701214\n",
      "Arizona       17.366947\n",
      "Cali          11.204482\n",
      "Nevada         9.150327\n",
      "Washington     7.563025\n",
      "WA             2.801120\n",
      "AZ             2.334267\n",
      "Name: proportion, dtype: float64\n",
      "\n",
      "Valores para GENDER:\n",
      "GENDER\n",
      "F         47.903564\n",
      "M         43.291405\n",
      "Male       4.088050\n",
      "female     2.935010\n",
      "Femal      1.781971\n",
      "Name: proportion, dtype: float64\n",
      "\n",
      "Valores para Education:\n",
      "Education\n",
      "Bachelor                30.252101\n",
      "College                 29.225023\n",
      "High School or Below    27.637722\n",
      "Master                   8.776844\n",
      "Doctor                   3.454715\n",
      "Bachelors                0.653595\n",
      "Name: proportion, dtype: float64\n",
      "\n",
      "Valores para Customer Lifetime Value:\n",
      "Customer Lifetime Value\n",
      "445811.34%     0.374532\n",
      "251459.20%     0.374532\n",
      "272535.64%     0.280899\n",
      "578018.22%     0.280899\n",
      "684615.03%     0.280899\n",
      "                 ...   \n",
      "245357.08%     0.093633\n",
      "507566.27%     0.093633\n",
      "321497.94%     0.093633\n",
      "1227534.31%    0.093633\n",
      "899704.02%     0.093633\n",
      "Name: proportion, Length: 1027, dtype: float64\n",
      "\n",
      "Valores para Number of Open Complaints:\n",
      "Number of Open Complaints\n",
      "1/0/00    77.497666\n",
      "1/1/00    12.885154\n",
      "1/2/00     4.668534\n",
      "1/3/00     3.174603\n",
      "1/4/00     1.213819\n",
      "1/5/00     0.560224\n",
      "Name: proportion, dtype: float64\n",
      "\n",
      "Valores para Policy Type:\n",
      "Policy Type\n",
      "Personal Auto     72.829132\n",
      "Corporate Auto    21.848739\n",
      "Special Auto       5.322129\n",
      "Name: proportion, dtype: float64\n",
      "\n",
      "Valores para Vehicle Class:\n",
      "Vehicle Class\n",
      "Four-Door Car    53.781513\n",
      "Two-Door Car     19.140990\n",
      "SUV              18.580766\n",
      "Sports Car        5.322129\n",
      "Luxury SUV        1.867414\n",
      "Luxury Car        1.307190\n",
      "Name: proportion, dtype: float64\n"
     ]
    }
   ],
   "source": [
    "categorical_cols = df.select_dtypes(exclude=np.number).columns\n",
    "for columnas in categorical_cols:\n",
    "    print(f\"\\nValores para {columnas}:\")\n",
    "    print(df[columnas].value_counts(normalize=True) * 100)"
   ]
  },
  {
   "cell_type": "markdown",
   "id": "5606c174",
   "metadata": {},
   "source": [
    "El rango de Total Claim Amount va desde 0 hasta aproximadamente 3000, la media de ingresos de los clientes se situa entorno a 40000."
   ]
  },
  {
   "cell_type": "code",
   "execution_count": 23,
   "id": "e2ee3807",
   "metadata": {},
   "outputs": [
    {
     "name": "stdout",
     "output_type": "stream",
     "text": [
      "Los 5 estados menos comunes son :\n",
      "ST\n",
      "AZ             25\n",
      "WA             30\n",
      "Washington     81\n",
      "Nevada         98\n",
      "Cali          120\n",
      "Name: count, dtype: int64\n"
     ]
    }
   ],
   "source": [
    "locations_counts = df[\"ST\"].value_counts(ascending = True).head(5)\n",
    "print(\"Los 5 estados menos comunes son :\")\n",
    "print(locations_counts)"
   ]
  },
  {
   "cell_type": "code",
   "execution_count": 24,
   "id": "b20b6bdc",
   "metadata": {},
   "outputs": [
    {
     "name": "stdout",
     "output_type": "stream",
     "text": [
      "Policy counts:\n",
      "Policy Type\n",
      "Personal Auto     780\n",
      "Corporate Auto    234\n",
      "Special Auto       57\n",
      "Name: count, dtype: int64\n",
      "\n",
      "Policy with highest count: Personal Auto\n"
     ]
    }
   ],
   "source": [
    "policy_counts = df[\"Policy Type\"].value_counts()\n",
    "top_policy = policy_counts.idxmax()\n",
    "\n",
    "print(\"Policy counts:\")\n",
    "print(policy_counts)\n",
    "print(\"\\nPolicy with highest count:\", top_policy)\n"
   ]
  },
  {
   "cell_type": "code",
   "execution_count": null,
   "id": "f5b4a6ab",
   "metadata": {},
   "outputs": [
    {
     "name": "stdout",
     "output_type": "stream",
     "text": [
      "Average income - Personal Auto: 38180.69871794872\n",
      "Average income - Corporate Auto: 41390.31196581197\n"
     ]
    }
   ],
   "source": [
    "#creamos un df para cada caso\n",
    "personal_auto = df.loc[df['Policy Type'] == 'Personal Auto']\n",
    "corporate_auto = df.loc[df['Policy Type'] == 'Corporate Auto']\n",
    "\n",
    "#Aanlizamos ambos para ver diferencias\n",
    "avg_income_personal = personal_auto['Income'].mean()\n",
    "avg_income_corporate = corporate_auto['Income'].mean()\n",
    "\n",
    "print(\"Average income - Personal Auto:\", avg_income_personal)\n",
    "print(\"Average income - Corporate Auto:\", avg_income_corporate)"
   ]
  },
  {
   "cell_type": "markdown",
   "id": "b238cbe5",
   "metadata": {},
   "source": [
    "Podemos afirmar que los ingresos de los clientes que forman parte de la columna Personal Auto tienen ligeramente un poco menos de ingresos que los que pertenecen a Corporate Auto."
   ]
  },
  {
   "cell_type": "markdown",
   "id": "5f82eea7",
   "metadata": {},
   "source": [
    "EJERCICIO BONUS"
   ]
  },
  {
   "cell_type": "code",
   "execution_count": 32,
   "id": "6cccee26",
   "metadata": {},
   "outputs": [
    {
     "name": "stdout",
     "output_type": "stream",
     "text": [
      "El umbral del percentil 75 es :  532.8\n"
     ]
    }
   ],
   "source": [
    "limite = df[\"Total Claim Amount\"].quantile(0.75)\n",
    "print(\"El umbral del percentil 75 es : \", limite)"
   ]
  },
  {
   "cell_type": "code",
   "execution_count": null,
   "id": "9fb554f1",
   "metadata": {},
   "outputs": [],
   "source": [
    "#creamos un df de los customer q esta por encima de ese umbral\n",
    "high_claim_customers = df[df[\"Total Claim Amount\"] > limite]\n",
    "len(high_claim_customers)\n",
    "high_claim_customers"
   ]
  },
  {
   "cell_type": "code",
   "execution_count": 34,
   "id": "41c5077f",
   "metadata": {},
   "outputs": [
    {
     "data": {
      "text/html": [
       "<div>\n",
       "<style scoped>\n",
       "    .dataframe tbody tr th:only-of-type {\n",
       "        vertical-align: middle;\n",
       "    }\n",
       "\n",
       "    .dataframe tbody tr th {\n",
       "        vertical-align: top;\n",
       "    }\n",
       "\n",
       "    .dataframe thead th {\n",
       "        text-align: right;\n",
       "    }\n",
       "</style>\n",
       "<table border=\"1\" class=\"dataframe\">\n",
       "  <thead>\n",
       "    <tr style=\"text-align: right;\">\n",
       "      <th></th>\n",
       "      <th>Income</th>\n",
       "      <th>Monthly Premium Auto</th>\n",
       "      <th>Total Claim Amount</th>\n",
       "    </tr>\n",
       "  </thead>\n",
       "  <tbody>\n",
       "    <tr>\n",
       "      <th>count</th>\n",
       "      <td>264.000000</td>\n",
       "      <td>264.000000</td>\n",
       "      <td>264.000000</td>\n",
       "    </tr>\n",
       "    <tr>\n",
       "      <th>mean</th>\n",
       "      <td>23677.344697</td>\n",
       "      <td>165.193182</td>\n",
       "      <td>782.228263</td>\n",
       "    </tr>\n",
       "    <tr>\n",
       "      <th>std</th>\n",
       "      <td>27013.483721</td>\n",
       "      <td>623.930992</td>\n",
       "      <td>292.751640</td>\n",
       "    </tr>\n",
       "    <tr>\n",
       "      <th>min</th>\n",
       "      <td>0.000000</td>\n",
       "      <td>63.000000</td>\n",
       "      <td>537.600000</td>\n",
       "    </tr>\n",
       "    <tr>\n",
       "      <th>25%</th>\n",
       "      <td>0.000000</td>\n",
       "      <td>99.000000</td>\n",
       "      <td>606.521741</td>\n",
       "    </tr>\n",
       "    <tr>\n",
       "      <th>50%</th>\n",
       "      <td>18807.000000</td>\n",
       "      <td>114.000000</td>\n",
       "      <td>679.597985</td>\n",
       "    </tr>\n",
       "    <tr>\n",
       "      <th>75%</th>\n",
       "      <td>42423.750000</td>\n",
       "      <td>133.250000</td>\n",
       "      <td>851.400000</td>\n",
       "    </tr>\n",
       "    <tr>\n",
       "      <th>max</th>\n",
       "      <td>99316.000000</td>\n",
       "      <td>10202.000000</td>\n",
       "      <td>2893.239678</td>\n",
       "    </tr>\n",
       "  </tbody>\n",
       "</table>\n",
       "</div>"
      ],
      "text/plain": [
       "             Income  Monthly Premium Auto  Total Claim Amount\n",
       "count    264.000000            264.000000          264.000000\n",
       "mean   23677.344697            165.193182          782.228263\n",
       "std    27013.483721            623.930992          292.751640\n",
       "min        0.000000             63.000000          537.600000\n",
       "25%        0.000000             99.000000          606.521741\n",
       "50%    18807.000000            114.000000          679.597985\n",
       "75%    42423.750000            133.250000          851.400000\n",
       "max    99316.000000          10202.000000         2893.239678"
      ]
     },
     "execution_count": 34,
     "metadata": {},
     "output_type": "execute_result"
    }
   ],
   "source": [
    "high_claim_customers.describe()"
   ]
  },
  {
   "cell_type": "code",
   "execution_count": 37,
   "id": "a0656303",
   "metadata": {},
   "outputs": [
    {
     "name": "stdout",
     "output_type": "stream",
     "text": [
      "\n",
      "Customer distribution in high claim customers:\n",
      "Customer\n",
      "QZ44356    0.378788\n",
      "JS43228    0.378788\n",
      "RA68844    0.378788\n",
      "TC14209    0.378788\n",
      "ED50963    0.378788\n",
      "             ...   \n",
      "DP84567    0.378788\n",
      "ZF84449    0.378788\n",
      "EM29359    0.378788\n",
      "SF57173    0.378788\n",
      "MY31220    0.378788\n",
      "Name: proportion, Length: 264, dtype: float64\n",
      "\n",
      "ST distribution in high claim customers:\n",
      "ST\n",
      "Oregon        34.090909\n",
      "California    24.621212\n",
      "Arizona       15.151515\n",
      "Nevada        10.984848\n",
      "Cali           7.954545\n",
      "WA             3.787879\n",
      "AZ             3.409091\n",
      "Name: proportion, dtype: float64\n",
      "\n",
      "GENDER distribution in high claim customers:\n",
      "GENDER\n",
      "F         48.319328\n",
      "M         42.016807\n",
      "Male       6.722689\n",
      "female     2.100840\n",
      "Femal      0.840336\n",
      "Name: proportion, dtype: float64\n",
      "\n",
      "Education distribution in high claim customers:\n",
      "Education\n",
      "Bachelor                32.196970\n",
      "High School or Below    32.196970\n",
      "College                 31.060606\n",
      "Master                   3.030303\n",
      "Doctor                   1.515152\n",
      "Name: proportion, dtype: float64\n",
      "\n",
      "Customer Lifetime Value distribution in high claim customers:\n",
      "Customer Lifetime Value\n",
      "578018.22%     1.136364\n",
      "477294.38%     1.136364\n",
      "387364.70%     0.757576\n",
      "462680.11%     0.757576\n",
      "1017971.70%    0.757576\n",
      "                 ...   \n",
      "712659.65%     0.378788\n",
      "460163.41%     0.378788\n",
      "915523.97%     0.378788\n",
      "890167.84%     0.378788\n",
      "899704.02%     0.378788\n",
      "Name: proportion, Length: 256, dtype: float64\n",
      "\n",
      "Number of Open Complaints distribution in high claim customers:\n",
      "Number of Open Complaints\n",
      "1/0/00    78.030303\n",
      "1/1/00    11.363636\n",
      "1/3/00     4.545455\n",
      "1/2/00     4.166667\n",
      "1/4/00     1.136364\n",
      "1/5/00     0.757576\n",
      "Name: proportion, dtype: float64\n",
      "\n",
      "Policy Type distribution in high claim customers:\n",
      "Policy Type\n",
      "Personal Auto     72.348485\n",
      "Corporate Auto    22.727273\n",
      "Special Auto       4.924242\n",
      "Name: proportion, dtype: float64\n",
      "\n",
      "Vehicle Class distribution in high claim customers:\n",
      "Vehicle Class\n",
      "SUV              38.257576\n",
      "Four-Door Car    26.136364\n",
      "Two-Door Car     12.500000\n",
      "Sports Car       11.742424\n",
      "Luxury SUV        7.196970\n",
      "Luxury Car        4.166667\n",
      "Name: proportion, dtype: float64\n"
     ]
    }
   ],
   "source": [
    "for columnas in categorical_cols:\n",
    "    print(f\"\\n{columnas} distribution in high claim customers:\")\n",
    "    print(high_claim_customers[columnas].value_counts(normalize=True) * 100)"
   ]
  }
 ],
 "metadata": {
  "kernelspec": {
   "display_name": "base",
   "language": "python",
   "name": "python3"
  },
  "language_info": {
   "codemirror_mode": {
    "name": "ipython",
    "version": 3
   },
   "file_extension": ".py",
   "mimetype": "text/x-python",
   "name": "python",
   "nbconvert_exporter": "python",
   "pygments_lexer": "ipython3",
   "version": "3.12.7"
  }
 },
 "nbformat": 4,
 "nbformat_minor": 5
}
